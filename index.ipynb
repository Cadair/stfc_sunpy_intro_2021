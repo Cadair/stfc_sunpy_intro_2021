{
 "cells": [
  {
   "cell_type": "markdown",
   "id": "5c6456c2-31c2-4b7a-a6d1-c01ed8bfb2d8",
   "metadata": {},
   "source": [
    "# A (rapid) Introduction to Python & SunPy\n",
    "## Stuart Mumford\n",
    "### Aperio Software Ltd."
   ]
  },
  {
   "cell_type": "markdown",
   "id": "90067986-c517-44c2-9ca3-530f69a2cba8",
   "metadata": {},
   "source": [
    "Two versions of the notes are provided in this repository:\n",
    "\n",
    "1. [A version with example code pre-filled](./python_sunpy_intro_instructor.ipynb)\n",
    "1. [A version with no code, to follow along live](./python_sunpy_intro.ipynb)"
   ]
  }
 ],
 "metadata": {
  "kernelspec": {
   "display_name": "Environment (virtualenv_stfc-sunpy-2021)",
   "language": "python",
   "name": "virtualenv_stfc-sunpy-2021"
  },
  "language_info": {
   "name": ""
  }
 },
 "nbformat": 4,
 "nbformat_minor": 5
}
