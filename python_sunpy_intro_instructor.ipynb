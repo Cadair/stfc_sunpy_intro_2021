{
 "cells": [
  {
   "cell_type": "markdown",
   "id": "1017885a-2c6b-4135-8d95-50f942935afb",
   "metadata": {
    "slideshow": {
     "slide_type": "slide"
    },
    "tags": []
   },
   "source": [
    "# A (rapid) Introduction to Python & SunPy\n",
    "## Stuart Mumford\n",
    "### Aperio Software Ltd."
   ]
  },
  {
   "cell_type": "markdown",
   "id": "79795d97-37fe-43ea-aa0e-119437d9ebf9",
   "metadata": {
    "slideshow": {
     "slide_type": "subslide"
    },
    "tags": []
   },
   "source": [
    "This session will give you a quick introduction to doing solar and heliospheric physics with Python, and a quick demo.\n",
    "\n",
    "In the last two hour slot of your week, I am not going to be able to teach you Python, but hopefully I can show you that there are lots of tools to help you and give you enough information that you can find help once you leave here!"
   ]
  },
  {
   "cell_type": "code",
   "execution_count": null,
   "id": "038cc0d6-04d2-4379-92e2-0bd7c6b9d900",
   "metadata": {},
   "outputs": [],
   "source": []
  }
 ],
 "metadata": {
  "kernelspec": {
   "display_name": "Environment (virtualenv_stfc-sunpy-2021)",
   "language": "python",
   "name": "virtualenv_stfc-sunpy-2021"
  },
  "language_info": {
   "name": ""
  },
  "toc-autonumbering": false,
  "toc-showcode": false
 },
 "nbformat": 4,
 "nbformat_minor": 5
}
