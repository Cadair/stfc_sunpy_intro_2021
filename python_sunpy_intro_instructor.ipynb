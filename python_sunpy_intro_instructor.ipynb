{
 "cells": [
  {
   "cell_type": "markdown",
   "id": "1017885a-2c6b-4135-8d95-50f942935afb",
   "metadata": {
    "slideshow": {
     "slide_type": "slide"
    },
    "tags": []
   },
   "source": [
    "# A (rapid) Introduction to Python & SunPy\n",
    "## Stuart Mumford\n",
    "### Aperio Software Ltd."
   ]
  },
  {
   "cell_type": "markdown",
   "id": "79795d97-37fe-43ea-aa0e-119437d9ebf9",
   "metadata": {
    "slideshow": {
     "slide_type": "subslide"
    },
    "tags": []
   },
   "source": [
    "This session will give you a quick introduction to doing solar and heliospheric physics with Python, and a quick demo.\n",
    "\n",
    "In the last two hour slot of your week, I am not going to be able to teach you Python, but hopefully I can show you that there are lots of tools to help you and give you enough information that you can find help once you leave here!"
   ]
  },
  {
   "cell_type": "markdown",
   "id": "2240c8c5-26a7-498f-9a5e-3323b129d05e",
   "metadata": {},
   "source": [
    "## Why Python?"
   ]
  },
  {
   "cell_type": "markdown",
   "id": "542e07a4-0b31-4646-a4d0-bf934eb499c5",
   "metadata": {
    "slideshow": {
     "slide_type": "fragment"
    },
    "tags": []
   },
   "source": [
    "# Community"
   ]
  },
  {
   "cell_type": "markdown",
   "id": "4e78d1ec-3919-4024-aafc-dd1c9501ee3b",
   "metadata": {
    "slideshow": {
     "slide_type": "fragment"
    },
    "tags": []
   },
   "source": [
    "# Employability"
   ]
  },
  {
   "cell_type": "markdown",
   "id": "9a143e3e-5960-446b-9d1f-0fd85e01d311",
   "metadata": {
    "slideshow": {
     "slide_type": "fragment"
    },
    "tags": []
   },
   "source": [
    "Sure there are loads of other reasons, but Python has loads of scientific and Solar / Helio specific functionality, and on top of that it has a welcoming and helpful community and because it's a programming language used all over the world for a load of different things, it's a great skill to have."
   ]
  },
  {
   "cell_type": "markdown",
   "id": "bf5a6619-22d4-46c7-8325-497a8b32f6f2",
   "metadata": {
    "slideshow": {
     "slide_type": "slide"
    }
   },
   "source": [
    "# The SunPy Community\n",
    "\n",
    "Like many other scientific Python projects, SunPy's packages are **\"Open Development\"** this means anyone is encouraged to contribute in any way that they can, this might include:\n",
    "\n",
    "\n",
    "* Telling the developers when something doesn't work, a feature is missing or hard to understand.\n",
    "* Telling the developers what worked well for you, what you found easy to understand.\n",
    "* Helping other people in the community by answering questions.\n",
    "* Improving the documentation, adding examples.\n",
    "* Fixing bugs and adding new features.\n",
    "\n",
    "We *want you* to help us make scientific Python better!"
   ]
  },
  {
   "cell_type": "markdown",
   "id": "9542294a-775f-4271-9166-983a807c290d",
   "metadata": {
    "slideshow": {
     "slide_type": "slide"
    }
   },
   "source": [
    "# Modules, modules everywhere...\n",
    "\n",
    "Python is a modular language, different people and groups develop _\"packages\"_ which are distrubuted and installable.\n",
    "\n",
    "You pick the set of packages which help you solve your problems, and combine them together.\n",
    "\n",
    "`sunpy`, `astropy`, `numpy` and `heliopy` are all examples of packages which you can install and then \"import\"."
   ]
  },
  {
   "cell_type": "markdown",
   "id": "b1f9fe2b-406f-46bb-8c0d-33d92a734f03",
   "metadata": {
    "slideshow": {
     "slide_type": "slide"
    }
   },
   "source": [
    "# An Exercise\n",
    "\n",
    "Let's spend most of the rest of this session actually writing some code.\n",
    "\n",
    "If you haven't used Python at all before some of this might be a little complex, but I will try and explain as we go along, we are going to play with a toy example of tracing a feature in the solar wind back to the Sun.\n",
    "This is going to be *super* simplified, but the idea is to show off a few Python things in a couple of hours, not actually draw any scientific conclusions!"
   ]
  },
  {
   "cell_type": "markdown",
   "id": "291f06d3-f17a-4e47-9aeb-e5db15535e78",
   "metadata": {},
   "source": [
    "Let's start by downloading some in-situ data from [OMNIWeb](https://omniweb.gsfc.nasa.gov/html/ow_data.html) which is an aggregated data set of near-Earth observations.\n",
    "\n",
    "For this we will use the downloader in [`heliopy`](https://docs.heliopy.org/en/stable/) which returns a [sunpy `Timeseries` object](https://docs.sunpy.org/en/stable/guide/data_types/timeseries.html)."
   ]
  },
  {
   "cell_type": "code",
   "execution_count": null,
   "id": "82b690c8-a90d-4865-acf7-79cd80f4efdd",
   "metadata": {
    "slideshow": {
     "slide_type": "slide"
    },
    "tags": []
   },
   "outputs": [],
   "source": [
    "from heliopy.data import omni"
   ]
  },
  {
   "cell_type": "code",
   "execution_count": null,
   "id": "edd43343-a9d3-4a7b-904f-fd34dabe8e94",
   "metadata": {},
   "outputs": [],
   "source": [
    "from sunpy.time import parse_time"
   ]
  },
  {
   "cell_type": "code",
   "execution_count": null,
   "id": "9655bc09-7622-4a5b-8bd5-fd10b335ab16",
   "metadata": {},
   "outputs": [],
   "source": [
    "omni_data = omni.hro2_1min(starttime=parse_time(\"2018-10-01\").datetime,\n",
    "                           endtime=parse_time(\"2018-11-01\").datetime)"
   ]
  },
  {
   "cell_type": "code",
   "execution_count": null,
   "id": "d9c119e6-c709-4a77-afaa-e84c09eedb69",
   "metadata": {},
   "outputs": [],
   "source": [
    "omni_data"
   ]
  },
  {
   "cell_type": "code",
   "execution_count": null,
   "id": "7b50b685-23b6-4598-a4c6-50448a14e592",
   "metadata": {},
   "outputs": [],
   "source": [
    "omni_data.meta"
   ]
  },
  {
   "cell_type": "code",
   "execution_count": null,
   "id": "713ffc5e-a09b-4570-b05e-a6003199dff9",
   "metadata": {},
   "outputs": [],
   "source": [
    "for col in omni_data.columns:\n",
    "    print(col)"
   ]
  },
  {
   "cell_type": "code",
   "execution_count": null,
   "id": "594cb28f-68f2-4917-ad4b-84d4955feada",
   "metadata": {},
   "outputs": [],
   "source": [
    "omni_data.units"
   ]
  },
  {
   "cell_type": "markdown",
   "id": "5c34ac3b-c167-44b9-a24c-f6568494dd08",
   "metadata": {
    "slideshow": {
     "slide_type": "slide"
    }
   },
   "source": [
    "Plotting in-situ data\n",
    "---\n",
    "Matplotlib can be used to plot the downloaded data. In this example we plot the solar wind speed and the z component of the magnetic field, to see different polarity solar wind streams."
   ]
  },
  {
   "cell_type": "code",
   "execution_count": null,
   "id": "93fa222e-406b-489e-9baa-d916d1aa0f13",
   "metadata": {},
   "outputs": [],
   "source": [
    "%matplotlib widget"
   ]
  },
  {
   "cell_type": "code",
   "execution_count": null,
   "id": "51e39662-68a4-4f4b-a32d-5cd735852086",
   "metadata": {},
   "outputs": [],
   "source": [
    "import matplotlib.pyplot as plt\n",
    "\n",
    "import astropy.units as u\n",
    "from astropy.visualization import quantity_support\n",
    "quantity_support()"
   ]
  },
  {
   "cell_type": "code",
   "execution_count": null,
   "id": "2733565d-9665-482e-8963-cee3fc9e29cc",
   "metadata": {},
   "outputs": [],
   "source": [
    "fig, axs = plt.subplots(nrows=3, figsize=(9, 6), sharex=True)\n",
    "\n",
    "ax = axs[0]\n",
    "ax.plot(omni_data.index, omni_data.quantity(\"flow_speed\"), label=\"$v_{sw}$\")\n",
    "\n",
    "ax = axs[1]\n",
    "ax.plot(omni_data.index, omni_data.quantity(\"BZ_GSE\"), label=\"$B_z$\")\n",
    "\n",
    "ax = axs[2]\n",
    "ax.plot(omni_data.index, omni_data.quantity(\"proton_density\"), label=\"$n_p$\")"
   ]
  },
  {
   "cell_type": "markdown",
   "id": "55199197-20cd-4fab-aeef-c71075036e82",
   "metadata": {
    "slideshow": {
     "slide_type": "slide"
    }
   },
   "source": [
    "## Finding Maxima (the easy way)\n",
    "\n",
    "To give us a single time to track back the flow to the Sun, let's find the point in this months worth of data which had the highest flow speed.\n",
    "\n",
    "If you were doing this properly then you would want to smooth the data, which you could do in many ways such as the [Savitzky-Golay filter](https://docs.scipy.org/doc/scipy/reference/generated/scipy.signal.savgol_filter.html) in `scipy`. For expedience we are just going to find the maxima."
   ]
  },
  {
   "cell_type": "code",
   "execution_count": null,
   "id": "db8f8d60-3b56-4c05-b923-ba6be9d2b374",
   "metadata": {},
   "outputs": [],
   "source": [
    "import numpy as np"
   ]
  },
  {
   "cell_type": "code",
   "execution_count": null,
   "id": "3913221a-66a3-487d-8d9c-07075560ecb1",
   "metadata": {},
   "outputs": [],
   "source": [
    "# Extract a unit-aware array\n",
    "flow_speed = omni_data.quantity('flow_speed')"
   ]
  },
  {
   "cell_type": "code",
   "execution_count": null,
   "id": "0f5a6c5c-bfe8-43d9-a592-f65f3d6e9bde",
   "metadata": {},
   "outputs": [],
   "source": [
    "flow_speed"
   ]
  },
  {
   "cell_type": "code",
   "execution_count": null,
   "id": "a48de3e1-74fc-4165-b8e4-c8f5467600eb",
   "metadata": {},
   "outputs": [],
   "source": [
    "np.max(flow_speed)"
   ]
  },
  {
   "cell_type": "code",
   "execution_count": null,
   "id": "d19e2ac2-7518-434c-8b36-167c68e936c8",
   "metadata": {},
   "outputs": [],
   "source": [
    "flow_speed[np.isnan(flow_speed)] = 0"
   ]
  },
  {
   "cell_type": "code",
   "execution_count": null,
   "id": "9711be8f-d795-49a8-acc9-7f9269c92893",
   "metadata": {},
   "outputs": [],
   "source": [
    "vel_max = np.max(flow_speed)\n",
    "vel_max"
   ]
  },
  {
   "cell_type": "code",
   "execution_count": null,
   "id": "9fefb735-b10f-44ec-bedd-2355a8310f0a",
   "metadata": {},
   "outputs": [],
   "source": [
    "vel_max_index = np.argmax(flow_speed)\n",
    "vel_max_index"
   ]
  },
  {
   "cell_type": "code",
   "execution_count": null,
   "id": "ad8d54a3-146a-490c-a95b-0b60b8cd5416",
   "metadata": {},
   "outputs": [],
   "source": [
    "vel_max_time = omni_data.index[vel_max_index]\n",
    "vel_max_time"
   ]
  },
  {
   "cell_type": "markdown",
   "id": "5cebc6fa-63f8-4a7f-9e90-d1d22ffdd7b9",
   "metadata": {
    "slideshow": {
     "slide_type": "slide"
    },
    "tags": []
   },
   "source": [
    "Improving figure formatting\n",
    "---"
   ]
  },
  {
   "cell_type": "markdown",
   "id": "6ad1f32f-1326-4fbe-a723-c8f41e34ae3d",
   "metadata": {},
   "source": [
    "We can improve this plot a little with some better formatting, and add a vertical line for our maximum flow speed."
   ]
  },
  {
   "cell_type": "code",
   "execution_count": null,
   "id": "a0f1319b-4f4d-4861-8121-f96db1671337",
   "metadata": {},
   "outputs": [],
   "source": [
    "fig.autofmt_xdate()\n",
    "fig.subplots_adjust(hspace=0)\n",
    "\n",
    "for ax in axs:\n",
    "    ax.legend()\n",
    "    ax.axvline(vel_max_time, color='black', linewidth=1, linestyle='--')\n",
    "\n",
    "# Add a zero line to the Bz plot\n",
    "axs[1].axhline(0, color='black', linewidth=1)\n",
    "    \n",
    "fig"
   ]
  },
  {
   "cell_type": "markdown",
   "id": "2e303fe0-cf96-4a89-a15c-eafeea583411",
   "metadata": {
    "slideshow": {
     "slide_type": "slide"
    }
   },
   "source": [
    "# Tracing the flow back to the Sun\n",
    "\n",
    "Let's figure out, in a very inaccurate manner, rougly when this solar wind stream would have left the Sun.\n",
    "\n",
    "To calculate this propagation delay we can use the ``astropy.units`` module. This provides an extension of normal numbers and arrays, and allows units to be attached. All the unit mathematics is calculated automatically, avoiding the need to keep track of specific units."
   ]
  },
  {
   "cell_type": "code",
   "execution_count": null,
   "id": "33639276-6177-4713-bec2-e20c2b0c3e99",
   "metadata": {},
   "outputs": [],
   "source": [
    "import astropy.constants as const\n",
    "from sunpy.coordinates.ephemeris import get_earth"
   ]
  },
  {
   "cell_type": "markdown",
   "id": "68c4a7ae-94e4-4281-a9b0-07695ddb6661",
   "metadata": {
    "slideshow": {
     "slide_type": "subslide"
    }
   },
   "source": [
    "Let's assume the solar wind is relesed from the surface of the Sun, so the propagation distance is $D_{sun} - R_{sun}$"
   ]
  },
  {
   "cell_type": "code",
   "execution_count": null,
   "id": "f31ab7ae-1ea0-4621-b515-dc5515fb7e0b",
   "metadata": {},
   "outputs": [],
   "source": [
    "d_sun = get_earth(vel_max_time)\n",
    "d_sun"
   ]
  },
  {
   "cell_type": "code",
   "execution_count": null,
   "id": "d2d7bcae-1c0c-4891-8a9c-9d05198b1b03",
   "metadata": {},
   "outputs": [],
   "source": [
    "d = (d_sun.radius - const.R_sun)\n",
    "d"
   ]
  },
  {
   "cell_type": "markdown",
   "id": "2e2a3419-0c9b-427c-8094-4a009a6b7e6d",
   "metadata": {
    "slideshow": {
     "slide_type": "subslide"
    }
   },
   "source": [
    "Let's assume that this stream would have been travelling at the speed it arrived at Earth the whole time:"
   ]
  },
  {
   "cell_type": "code",
   "execution_count": null,
   "id": "7a6d1c5d-43e9-456b-9610-305c3c3d463d",
   "metadata": {},
   "outputs": [],
   "source": [
    "vel_max"
   ]
  },
  {
   "cell_type": "code",
   "execution_count": null,
   "id": "a4608dcd-e9d0-4236-9887-f5b58e8067ff",
   "metadata": {},
   "outputs": [],
   "source": [
    "vel_max.to(u.imperial.mile/u.hour)"
   ]
  },
  {
   "cell_type": "markdown",
   "id": "00c2a7fa-aef7-4617-ad4d-0c6cd37ab5d0",
   "metadata": {
    "slideshow": {
     "slide_type": "subslide"
    }
   },
   "source": [
    "Calculate tne propagation time, and convert it to units of days"
   ]
  },
  {
   "cell_type": "code",
   "execution_count": null,
   "id": "cdf538ae-59cc-4366-b475-808a355c2bad",
   "metadata": {},
   "outputs": [],
   "source": [
    "t = (d / vel_max).to(u.day)\n",
    "t"
   ]
  },
  {
   "cell_type": "code",
   "execution_count": null,
   "id": "8e8a1521-30f9-41bc-9682-7cc10ec8afdb",
   "metadata": {},
   "outputs": [],
   "source": [
    "estimated_departure = parse_time(vel_max_time) - t\n",
    "estimated_departure"
   ]
  },
  {
   "cell_type": "markdown",
   "id": "0ec505cf-9f86-4711-a305-1ce44d78db4a",
   "metadata": {
    "slideshow": {
     "slide_type": "slide"
    },
    "tags": []
   },
   "source": [
    "# Downloading Data with sunpy's Fido\n",
    "\n",
    "Now we have a rough idea of the time that the wind stream would have left the Sun, let's see what was happening in EUV around that time."
   ]
  },
  {
   "cell_type": "code",
   "execution_count": null,
   "id": "e7dbc379-df8b-41ae-852d-fbada328fe8c",
   "metadata": {},
   "outputs": [],
   "source": [
    "start_time = estimated_departure - 1 * u.day\n",
    "end_time = estimated_departure + 1 * u.day"
   ]
  },
  {
   "cell_type": "code",
   "execution_count": null,
   "id": "cb443ca7-008f-4333-a759-2df519409aef",
   "metadata": {},
   "outputs": [],
   "source": [
    "from sunpy.net import Fido, attrs as a"
   ]
  },
  {
   "cell_type": "code",
   "execution_count": null,
   "id": "71018d18-398e-4069-9153-b6c0d7e855aa",
   "metadata": {},
   "outputs": [],
   "source": [
    "result = Fido.search(a.Time(start_time, end_time),\n",
    "                     a.Sample(3 * u.hour),\n",
    "                     a.Instrument.aia,\n",
    "                     a.Wavelength(19.3 * u.nm))\n",
    "result"
   ]
  },
  {
   "cell_type": "code",
   "execution_count": null,
   "id": "63631846-5d83-4469-abe1-1068ab058dca",
   "metadata": {},
   "outputs": [],
   "source": [
    "files = Fido.fetch(result)"
   ]
  },
  {
   "cell_type": "code",
   "execution_count": null,
   "id": "86e4ed43-6296-499e-92e9-1bd90b89ed88",
   "metadata": {},
   "outputs": [],
   "source": [
    "files"
   ]
  },
  {
   "cell_type": "markdown",
   "id": "9f85bbad-3dd2-4eda-b7e8-4ae4b27bc341",
   "metadata": {
    "slideshow": {
     "slide_type": "slide"
    }
   },
   "source": [
    "## sunpy Map\n",
    "\n",
    "Having downloaded some AIA data, let us load it with `sunpy`.\n",
    "\n",
    "`sunpy` provides a [`Map` datatype](https://docs.sunpy.org/en/stable/guide/data_types/maps.html) which provides a coordinate aware wrapper to 2D imaging data, and sequences of such images.\n",
    "\n",
    "To start with we will load all the images we just downloaded into a single [`MapSequence`](https://docs.sunpy.org/en/stable/api/sunpy.map.MapSequence.html) object."
   ]
  },
  {
   "cell_type": "code",
   "execution_count": null,
   "id": "7be8d57f-229c-4050-972d-dd935bd02dc2",
   "metadata": {},
   "outputs": [],
   "source": [
    "import sunpy.map"
   ]
  },
  {
   "cell_type": "code",
   "execution_count": null,
   "id": "817ec935-f917-4caa-aa3d-fd3a8c451979",
   "metadata": {},
   "outputs": [],
   "source": [
    "map_seq = sunpy.map.Map(files, sequence=True)"
   ]
  },
  {
   "cell_type": "code",
   "execution_count": null,
   "id": "b1b5bd8e-b0a0-450e-98c4-ff9a2447c5f8",
   "metadata": {},
   "outputs": [],
   "source": [
    "map_seq.peek()"
   ]
  },
  {
   "cell_type": "markdown",
   "id": "71f088dd-9cdf-4e0a-94a3-05dece81e225",
   "metadata": {},
   "source": [
    "# Picking out a single image\n",
    "\n",
    "To show off `Map` a little more, let us pick out the map which is closest in time to our estimated time. To do this we subtract the map's time from the estimated time and find the minima of the absolute difference."
   ]
  },
  {
   "cell_type": "code",
   "execution_count": null,
   "id": "62cf1b37-5e4a-4bac-8930-0461a6b9dd60",
   "metadata": {},
   "outputs": [],
   "source": [
    "map_time_shift = [estimated_departure - m.date for m in map_seq]"
   ]
  },
  {
   "cell_type": "code",
   "execution_count": null,
   "id": "a3b8055c-74b4-4e4c-b306-f06eab2e4c9e",
   "metadata": {},
   "outputs": [],
   "source": [
    "map_time_shift"
   ]
  },
  {
   "cell_type": "code",
   "execution_count": null,
   "id": "17a82764-904a-4d9e-94a7-40172c35bd76",
   "metadata": {},
   "outputs": [],
   "source": [
    "nearest_map_index = np.argmin(np.abs(map_time_shift))\n",
    "nearest_map_index"
   ]
  },
  {
   "cell_type": "code",
   "execution_count": null,
   "id": "6cd95bfa-58c1-4069-8fa8-934205016efb",
   "metadata": {},
   "outputs": [],
   "source": [
    "nearest_map = map_seq[nearest_map_index]\n",
    "nearest_map"
   ]
  },
  {
   "cell_type": "code",
   "execution_count": null,
   "id": "c9e8765b-dd48-4c7b-a4e3-5c559ac3552b",
   "metadata": {},
   "outputs": [],
   "source": [
    "from astropy.coordinates import SkyCoord"
   ]
  },
  {
   "cell_type": "code",
   "execution_count": null,
   "id": "67c4a068-a326-4dc3-b58a-445ae8eeb515",
   "metadata": {},
   "outputs": [],
   "source": [
    "plt.figure()\n",
    "ax = plt.subplot(projection=nearest_map)\n",
    "nearest_map.plot()\n",
    "nearest_map.draw_grid()\n",
    "\n",
    "ax.plot_coord(SkyCoord(-60*u.deg, -5*u.deg, frame=\"heliographic_stonyhurst\"), marker='o')"
   ]
  },
  {
   "cell_type": "code",
   "execution_count": null,
   "id": "5cb57ace-b21f-4acb-8b4b-6b08dbe0832a",
   "metadata": {},
   "outputs": [],
   "source": []
  }
 ],
 "metadata": {
  "celltoolbar": "Slideshow",
  "kernelspec": {
   "display_name": "Python 3 (ipykernel)",
   "language": "python",
   "name": "python3"
  },
  "language_info": {
   "codemirror_mode": {
    "name": "ipython",
    "version": 3
   },
   "file_extension": ".py",
   "mimetype": "text/x-python",
   "name": "python",
   "nbconvert_exporter": "python",
   "pygments_lexer": "ipython3",
   "version": "3.9.6"
  },
  "toc-autonumbering": false,
  "toc-showcode": false
 },
 "nbformat": 4,
 "nbformat_minor": 5
}
